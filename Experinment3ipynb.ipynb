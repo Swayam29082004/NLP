{
 "cells": [
  {
   "cell_type": "code",
   "execution_count": null,
   "id": "48df51e9",
   "metadata": {
    "vscode": {
     "languageId": "plaintext"
    }
   },
   "outputs": [],
   "source": [
    "import nltk\n",
    "from nltk.corpus import stopwords, gutenberg\n",
    "from nltk.tokenize import word_tokenize, sent_tokenize\n",
    "from gensim.models import Word2Vec\n",
    "from sklearn.manifold import TSNE\n",
    "import matplotlib.pyplot as plt\n",
    "import re\n",
    "import pandas as pd\n"
   ]
  },
  {
   "cell_type": "code",
   "execution_count": null,
   "id": "a76fe1b1",
   "metadata": {
    "vscode": {
     "languageId": "plaintext"
    }
   },
   "outputs": [],
   "source": [
    "nltk.download('punkt')\n",
    "nltk.download('stopwords')\n",
    "\n",
    "raw_text = gutenberg.raw('austen-emma.txt')\n",
    "raw_text = raw_text.lower()\n",
    "raw_text = re.sub(r'[^a-zA-Z\\s]', '', raw_text)\n",
    "\n",
    "stop_words = set(stopwords.words('english'))\n",
    "sentences = sent_tokenize(raw_text)\n",
    "tokenized_sentences = [\n",
    "    [word for word in word_tokenize(sent) if word not in stop_words]\n",
    "    for sent in sentences\n",
    "]\n"
   ]
  },
  {
   "cell_type": "code",
   "execution_count": null,
   "id": "c93fd5c0",
   "metadata": {
    "vscode": {
     "languageId": "plaintext"
    }
   },
   "outputs": [],
   "source": [
    "model = Word2Vec(sentences=tokenized_sentences, vector_size=100, window=5,\n",
    "                 min_count=2, workers=4, sg=0)  # sg=1 for Skip-gram\n"
   ]
  },
  {
   "cell_type": "code",
   "execution_count": null,
   "id": "69fa7f2a",
   "metadata": {
    "vscode": {
     "languageId": "plaintext"
    }
   },
   "outputs": [],
   "source": [
    "print(model.wv.most_similar('emma'))\n",
    "print(model.wv.similarity('emma', 'harriet'))\n"
   ]
  },
  {
   "cell_type": "code",
   "execution_count": null,
   "id": "b9ede76e",
   "metadata": {
    "vscode": {
     "languageId": "plaintext"
    }
   },
   "outputs": [],
   "source": [
    "words = list(model.wv.index_to_key)[:100]\n",
    "word_vectors = [model.wv[word] for word in words]\n",
    "\n",
    "tsne = TSNE(n_components=2, random_state=0, perplexity=15)\n",
    "reduced_vectors = tsne.fit_transform(word_vectors)\n",
    "\n",
    "plt.figure(figsize=(12, 8))\n",
    "for i, word in enumerate(words):\n",
    "    plt.scatter(reduced_vectors[i][0], reduced_vectors[i][1])\n",
    "    plt.annotate(word, (reduced_vectors[i][0], reduced_vectors[i][1]))\n",
    "plt.title('t-SNE Visualization of Word Embeddings')\n",
    "plt.show()\n"
   ]
  }
 ],
 "metadata": {
  "language_info": {
   "name": "python"
  }
 },
 "nbformat": 4,
 "nbformat_minor": 5
}
