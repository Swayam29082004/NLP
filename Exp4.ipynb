{
  "cells": [
    {
      "cell_type": "code",
      "execution_count": null,
      "metadata": {
        "colab": {
          "base_uri": "https://localhost:8080/"
        },
        "id": "v8sFPU41z_YS",
        "outputId": "e1fb0f54-52cf-418f-edbb-f02b893db79e"
      },
      "outputs": [
        {
          "name": "stderr",
          "output_type": "stream",
          "text": [
            "[nltk_data] Downloading package gutenberg to /root/nltk_data...\n",
            "[nltk_data]   Package gutenberg is already up-to-date!\n",
            "[nltk_data] Downloading package punkt to /root/nltk_data...\n",
            "[nltk_data]   Package punkt is already up-to-date!\n",
            "[nltk_data] Downloading package punkt_tab to /root/nltk_data...\n",
            "[nltk_data]   Package punkt_tab is already up-to-date!\n"
          ]
        },
        {
          "name": "stdout",
          "output_type": "stream",
          "text": [
            "N-Gram Word Prediction\n",
            "1. Unigram\n",
            "2. Bigram\n",
            "3. Trigram\n",
            "Select model (1/2/3): 3\n",
            "Enter first word: i\n",
            "Enter second word: am\n",
            "Predicted Word: sure\n"
          ]
        }
      ],
      "source": [
        "import nltk\n",
        "from nltk.corpus import gutenberg\n",
        "from nltk.util import ngrams\n",
        "from collections import Counter, defaultdict\n",
        "import random\n",
        "\n",
        "# Download required NLTK resources\n",
        "nltk.download('gutenberg')\n",
        "nltk.download('punkt')\n",
        "nltk.download('punkt_tab')\n",
        "\n",
        "# Load and preprocess the text\n",
        "text = gutenberg.raw('austen-emma.txt').lower()\n",
        "tokens = nltk.word_tokenize(text)\n",
        "\n",
        "# Create Unigram, Bigram, and Trigram models\n",
        "unigram_model = Counter(tokens)\n",
        "bigram_model = Counter(ngrams(tokens, 2))\n",
        "trigram_model = Counter(ngrams(tokens, 3))\n",
        "\n",
        "# Total unigrams for probability estimation\n",
        "total_unigrams = sum(unigram_model.values())\n",
        "\n",
        "# Probability Estimation Functions\n",
        "def predict_unigram():\n",
        "    return random.choices(list(unigram_model.keys()), weights=unigram_model.values(), k=1)[0]\n",
        "\n",
        "def predict_bigram(word):\n",
        "    candidates = {pair[1]: count for pair, count in bigram_model.items() if pair[0] == word}\n",
        "    if not candidates:\n",
        "        return predict_unigram()\n",
        "    return max(candidates, key=candidates.get)\n",
        "\n",
        "def predict_trigram(w1, w2):\n",
        "    candidates = {trio[2]: count for trio, count in trigram_model.items() if trio[0] == w1 and trio[1] == w2}\n",
        "    if not candidates:\n",
        "        return predict_bigram(w2)\n",
        "    return max(candidates, key=candidates.get)\n",
        "\n",
        "# Prediction Interface\n",
        "def word_prediction():\n",
        "    print(\"N-Gram Word Prediction\")\n",
        "    print(\"1. Unigram\\n2. Bigram\\n3. Trigram\")\n",
        "    choice = input(\"Select model (1/2/3): \")\n",
        "\n",
        "    if choice == \"1\":\n",
        "        print(\"Predicted Word:\", predict_unigram())\n",
        "\n",
        "    elif choice == \"2\":\n",
        "        word = input(\"Enter a word: \").lower()\n",
        "        print(\"Predicted Word:\", predict_bigram(word))\n",
        "\n",
        "    elif choice == \"3\":\n",
        "        w1 = input(\"Enter first word: \").lower()\n",
        "        w2 = input(\"Enter second word: \").lower()\n",
        "        print(\"Predicted Word:\", predict_trigram(w1, w2))\n",
        "\n",
        "    else:\n",
        "        print(\"Invalid input\")\n",
        "\n",
        "# Run the prediction\n",
        "word_prediction()"
      ]
    }
  ],
  "metadata": {
    "colab": {
      "provenance": []
    },
    "kernelspec": {
      "display_name": "Python 3",
      "name": "python3"
    },
    "language_info": {
      "name": "python"
    }
  },
  "nbformat": 4,
  "nbformat_minor": 0
}
