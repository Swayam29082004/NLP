{
 "cells": [
  {
   "cell_type": "code",
   "execution_count": 2,
   "id": "48df51e9",
   "metadata": {},
   "outputs": [
    {
     "ename": "ModuleNotFoundError",
     "evalue": "No module named 'nltk'",
     "output_type": "error",
     "traceback": [
      "\u001b[31m---------------------------------------------------------------------------\u001b[39m",
      "\u001b[31mModuleNotFoundError\u001b[39m                       Traceback (most recent call last)",
      "\u001b[36mCell\u001b[39m\u001b[36m \u001b[39m\u001b[32mIn[2]\u001b[39m\u001b[32m, line 1\u001b[39m\n\u001b[32m----> \u001b[39m\u001b[32m1\u001b[39m \u001b[38;5;28;01mimport\u001b[39;00m\u001b[38;5;250m \u001b[39m\u001b[34;01mnltk\u001b[39;00m\n\u001b[32m      2\u001b[39m \u001b[38;5;28;01mfrom\u001b[39;00m\u001b[38;5;250m \u001b[39m\u001b[34;01mnltk\u001b[39;00m\u001b[34;01m.\u001b[39;00m\u001b[34;01mcorpus\u001b[39;00m\u001b[38;5;250m \u001b[39m\u001b[38;5;28;01mimport\u001b[39;00m stopwords, gutenberg\n\u001b[32m      3\u001b[39m \u001b[38;5;28;01mfrom\u001b[39;00m\u001b[38;5;250m \u001b[39m\u001b[34;01mnltk\u001b[39;00m\u001b[34;01m.\u001b[39;00m\u001b[34;01mtokenize\u001b[39;00m\u001b[38;5;250m \u001b[39m\u001b[38;5;28;01mimport\u001b[39;00m word_tokenize, sent_tokenize\n",
      "\u001b[31mModuleNotFoundError\u001b[39m: No module named 'nltk'"
     ]
    }
   ],
   "source": [
    "import nltk\n",
    "from nltk.corpus import stopwords, gutenberg\n",
    "from nltk.tokenize import word_tokenize, sent_tokenize\n",
    "from gensim.models import Word2Vec\n",
    "from sklearn.manifold import TSNE\n",
    "import matplotlib.pyplot as plt\n",
    "import re\n",
    "import pandas as pd\n"
   ]
  },
  {
   "cell_type": "code",
   "execution_count": null,
   "id": "a76fe1b1",
   "metadata": {},
   "outputs": [],
   "source": [
    "nltk.download('punkt')\n",
    "nltk.download('stopwords')\n",
    "\n",
    "raw_text = gutenberg.raw('austen-emma.txt')\n",
    "raw_text = raw_text.lower()\n",
    "raw_text = re.sub(r'[^a-zA-Z\\s]', '', raw_text)\n",
    "\n",
    "stop_words = set(stopwords.words('english'))\n",
    "sentences = sent_tokenize(raw_text)\n",
    "tokenized_sentences = [\n",
    "    [word for word in word_tokenize(sent) if word not in stop_words]\n",
    "    for sent in sentences\n",
    "]\n"
   ]
  },
  {
   "cell_type": "code",
   "execution_count": null,
   "id": "c93fd5c0",
   "metadata": {},
   "outputs": [],
   "source": [
    "model = Word2Vec(sentences=tokenized_sentences, vector_size=100, window=5,\n",
    "                 min_count=2, workers=4, sg=0)  # sg=1 for Skip-gram\n"
   ]
  },
  {
   "cell_type": "code",
   "execution_count": null,
   "id": "69fa7f2a",
   "metadata": {},
   "outputs": [],
   "source": [
    "print(model.wv.most_similar('emma'))\n",
    "print(model.wv.similarity('emma', 'harriet'))\n"
   ]
  },
  {
   "cell_type": "code",
   "execution_count": null,
   "id": "b9ede76e",
   "metadata": {},
   "outputs": [],
   "source": [
    "words = list(model.wv.index_to_key)[:100]\n",
    "word_vectors = [model.wv[word] for word in words]\n",
    "\n",
    "tsne = TSNE(n_components=2, random_state=0, perplexity=15)\n",
    "reduced_vectors = tsne.fit_transform(word_vectors)\n",
    "\n",
    "plt.figure(figsize=(12, 8))\n",
    "for i, word in enumerate(words):\n",
    "    plt.scatter(reduced_vectors[i][0], reduced_vectors[i][1])\n",
    "    plt.annotate(word, (reduced_vectors[i][0], reduced_vectors[i][1]))\n",
    "plt.title('t-SNE Visualization of Word Embeddings')\n",
    "plt.show()\n"
   ]
  }
 ],
 "metadata": {
  "kernelspec": {
   "display_name": "Python 3",
   "language": "python",
   "name": "python3"
  },
  "language_info": {
   "codemirror_mode": {
    "name": "ipython",
    "version": 3
   },
   "file_extension": ".py",
   "mimetype": "text/x-python",
   "name": "python",
   "nbconvert_exporter": "python",
   "pygments_lexer": "ipython3",
   "version": "3.11.4"
  }
 },
 "nbformat": 4,
 "nbformat_minor": 5
}
